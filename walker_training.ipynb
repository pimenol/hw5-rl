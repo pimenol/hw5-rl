{
 "cells": [
  {
   "cell_type": "code",
   "execution_count": 1,
   "id": "ff36817858940fd7",
   "metadata": {
    "ExecuteTime": {
     "end_time": "2023-11-30T09:51:36.674524500Z",
     "start_time": "2023-11-30T09:51:36.663524700Z"
    },
    "collapsed": false
   },
   "outputs": [],
   "source": [
    "%load_ext autoreload\n",
    "%autoreload 2\n",
    "\n",
    "import numpy as np\n",
    "import torch\n",
    "from torch import nn \n",
    "import torch.optim as optim\n",
    "from torch.distributions import Normal"
   ]
  },
  {
   "cell_type": "markdown",
   "id": "e6c99faf649cd52b",
   "metadata": {
    "collapsed": false
   },
   "source": [
    "# Teaching a quadruped to walk\n",
    "\n",
    "Time to try out the learning algorithms that you just implemented on a more difficult problem. The WalkerEnv implements a quadruped robot kind-of thing, see for yourself. The goal is to move in the $x$ direction as fast and as far as possible.\n",
    "\n",
    "Your goal is to implement a class `WalkerPolicy` with function `determine_actions()` just like the StochasticPolicy we used earlier to control the pendulum. Below is a template of this class, but feel free to alter it however you want. The only important thing is the `determine_actions()` function!\n",
    "\n",
    "After you implement it, copy `WalkerPolicy` into a separate file `WalkerPolicy.py` that you will upload to BRUTE together with the (optional) learned weights in a zip file. How the policy is implemented is up to you! You are constrained to only the libraries we used so far though, such as torch, numpy etc..\n",
    "\n",
    "You will get some free points just for uploading a working policy (irrelevant of the performance). Further 2 points will be awarded for successfully traversing a small distance in the x direction.\n"
   ]
  },
  {
   "cell_type": "markdown",
   "id": "d41290d3f9ccf033",
   "metadata": {
    "collapsed": false
   },
   "source": [
    "# Hints\n",
    "\n",
    "There is no single easy way of doing this, but here are some suggestions on what you could try to improve your policy:\n",
    "\n",
    "1. This problem is much more difficult, than balancing a pendulum. It is a good idea to use a bit larger network than for the pendulum policy.\n",
    "\n",
    "2. You can also try to use a different optimizer, such as Adam and play with the hyperparameters.\n",
    "\n",
    "3. Using a neural network to compute the normal distribution scale $\\sigma$ can lead to too much randomness in the actions (i.e. exploration). You can use a fixed $\\sigma$ instead, or replace it with a learnable `torch.Parameter` initialized to some small constant. Make sure, you run it through an exponential, or softplus function to ensure $\\sigma$ is positive.\n",
    "\n",
    "4. The exploration can also be reduced by penalizing the variance of the action distribution in an additional loss term.\n",
    "\n",
    "5. If you see some undesirable behaviour, you can tweak the reward function to penalize it. Even though the $x$ distance is all we care about, adding extra terms to the reward can help guide the learning process (This is known as reward shaping). Simply define a reward function mapping the state $s_{t+1}$ and action $a_t$ to a scalar reward $r_t$ and put it in the config dictionary under the key `'reward_fcn'`. See the `WalkerEnv` class for the implementation of the default reward.\n",
    "\n",
    "6. Using the normal distribution on a bounded action space can lead to certain problems caused by action clipping. This can be mitigated by using a different distribution, such as the Beta distribution. See the `torch.distributions.beta` module for more information. (Note that Beta distribution is defined on the interval [0,1] and works better with parameters $\\alpha,\\beta \\geq 1$.)\n"
   ]
  },
  {
   "cell_type": "code",
   "execution_count": 2,
   "id": "d5f0cff3",
   "metadata": {},
   "outputs": [],
   "source": [
    "# If you cannot run with the visualization, you can set this to False\n",
    "VISUALIZE = True"
   ]
  },
  {
   "cell_type": "code",
   "execution_count": 3,
   "id": "d52d6512e1dc81e6",
   "metadata": {
    "ExecuteTime": {
     "end_time": "2023-11-30T16:30:41.415964800Z",
     "start_time": "2023-11-30T16:30:40.816557700Z"
    },
    "collapsed": false
   },
   "outputs": [],
   "source": [
    "from environment.WalkerEnv import WalkerEnv\n",
    "from WalkerPolicy import WalkerPolicy"
   ]
  },
  {
   "cell_type": "code",
   "execution_count": 4,
   "id": "dcd343db",
   "metadata": {},
   "outputs": [],
   "source": [
    "def sample_trajectories(env, pi, T):\n",
    "    \"\"\"given an environment env, a stochastic policy pi and number of timesteps T, interact with the environment for T steps \n",
    "    using actions sampled from policy. Return torch tensors of collected states, actions and rewards\"\"\"\n",
    "    states = np.zeros((T + 1, N, env.num_states), dtype=float)  # states from s(0) to s(T+1)\n",
    "    actions = np.zeros((T, N, env.num_actions), dtype=float)  # actions from a(0) to a(T)\n",
    "    rewards = np.zeros((T, N), dtype=float)  # rewards from r(0) to r(T)\n",
    "\n",
    "    s = env.vector_reset()\n",
    "    states[0] = s\n",
    "    for t in range(T):\n",
    "        a = pi.sample_actions(torch.tensor(states[t]).float())  # policy needs float torch tensor (N, state_dim)\n",
    "        s_next, r = env.vector_step(np.array(a))  # env needs numpy array of (Nx1)\n",
    "        states[t + 1], actions[t], rewards[t] = s_next, a, r\n",
    "\n",
    "    tensor_s = torch.tensor(states).float()  # (T+1, N, state_dim)  care for the extra timestep at the end!\n",
    "    tensor_a = torch.tensor(actions).float()  # (T, N, 1)\n",
    "    tensor_r = torch.tensor(rewards).float()  # (T, N)\n",
    "\n",
    "    return tensor_s, tensor_a, tensor_r"
   ]
  },
  {
   "cell_type": "code",
   "execution_count": 5,
   "id": "030dc17f",
   "metadata": {},
   "outputs": [],
   "source": [
    "from solution import discount_cum_sum\n",
    "\n",
    "def compute_advantage_estimates(tensor_r, values, gamma, bootstrap=False):\n",
    "    \"\"\"given reward tensor (T, N), value estimates tensor (T+1, N) and gamma scalar\"\"\"\n",
    "    if bootstrap:  # use last value estimates as a return estimate\n",
    "        terminal_value_estimates = values[-1].unsqueeze(0)  # values of the last states (1, N)\n",
    "        rs_v = torch.cat((tensor_r, terminal_value_estimates), dim=0)\n",
    "        value_targets = discount_cum_sum(rs_v, gamma)[:-1]\n",
    "    else:\n",
    "        value_targets = discount_cum_sum(tensor_r, gamma)\n",
    "    advantages = value_targets - values[:-1]\n",
    "    return value_targets, advantages\n",
    "\n",
    "\n",
    "def compute_gae(tensor_r, values, gamma, lambda_):\n",
    "    \"\"\"generalized advantage estimation (GAE) implementation\"\"\"\n",
    "    delta_t = tensor_r + gamma * values[1:] - values[:-1]\n",
    "    advantages = discount_cum_sum(delta_t, gamma * lambda_)\n",
    "    value_targets = advantages + values[:-1]\n",
    "    return value_targets, advantages"
   ]
  },
  {
   "cell_type": "code",
   "execution_count": 6,
   "id": "421f1380",
   "metadata": {},
   "outputs": [],
   "source": [
    "def test_policy(pi, config, T=128, deterministic=True):\n",
    "    test_env = WalkerEnv(config)\n",
    "    mean_reward = 0\n",
    "    \n",
    "    s = test_env.vector_reset()\n",
    "    x = s[0, 0]\n",
    "    for i in range(T):\n",
    "        with torch.no_grad():\n",
    "            if deterministic:\n",
    "                actions = pi.determine_actions(torch.tensor(s).float()) \n",
    "            else:\n",
    "                actions = pi.sample_actions(torch.tensor(s).float()) \n",
    "        s, r = test_env.vector_step(actions.numpy())\n",
    "        x = max(x, s[0, 0])\n",
    "        mean_reward += sum(r) / (T * config['N'])\n",
    "\n",
    "    print(f\"Max x: {x}\")\n",
    "    test_env.close()\n",
    "    return mean_reward"
   ]
  },
  {
   "cell_type": "code",
   "execution_count": 56,
   "id": "55e7b0a9",
   "metadata": {},
   "outputs": [],
   "source": [
    "def walker_reward(state, action):\n",
    "    pos = state[:15]  # first 15 elements of state vector are generalized coordinates [xyz, quat, joint_angles]\n",
    "    vel = state[15:]  # last 14 elements of state vector are generalized velocities [xyz_vel, omega, joint_velocities]\n",
    "    return vel[0]*1.5  # return the x velocity as the reward by default\n"
   ]
  },
  {
   "cell_type": "code",
   "execution_count": 57,
   "id": "e6b67909",
   "metadata": {},
   "outputs": [
    {
     "name": "stdout",
     "output_type": "stream",
     "text": [
      "Environment ready\n"
     ]
    }
   ],
   "source": [
    "from solution import ppo_loss, value_loss\n",
    "import torch\n",
    "from utils.plotting import plot_training\n",
    "import numpy as np\n",
    "\n",
    "N = 128\n",
    "base_config = {\n",
    "    \"N\": N,\n",
    "    \"vis\": False,\n",
    "    \"track\": 0,\n",
    "    \"reward_fcn\": walker_reward\n",
    "}\n",
    "torch.manual_seed(42)\n",
    "\n",
    "# training parameters\n",
    "\n",
    "T = 256\n",
    "epochs = 500\n",
    "lr = 0.001\n",
    "gamma = 0.9\n",
    "epsilon = 0.3\n",
    "\n",
    "sgd_iters = 5\n",
    "\n",
    "# policy, environment and optimizer\n",
    "pi = WalkerPolicy(state_dim=29, action_dim=8)\n",
    "train_env = WalkerEnv(base_config)\n",
    "optim = torch.optim.Adam(pi.parameters(), lr=lr)\n",
    "\n",
    "mean_rewards, p_losses, v_losses = np.zeros(epochs), np.zeros(epochs), np.zeros(epochs)  # for logging mean rewards over epochs"
   ]
  },
  {
   "cell_type": "code",
   "execution_count": null,
   "id": "92c7a3a7",
   "metadata": {},
   "outputs": [
    {
     "name": "stdout",
     "output_type": "stream",
     "text": [
      "Epoch 0, mean reward: 0.038, value loss: 13.116\n",
      "Epoch 10, mean reward: 0.091, value loss: 14.442\n",
      "Epoch 20, mean reward: 0.137, value loss: 10.092\n",
      "Epoch 30, mean reward: 0.195, value loss: 9.832\n",
      "Epoch 40, mean reward: 0.282, value loss: 10.139\n",
      "Epoch 50, mean reward: 0.312, value loss: 8.536\n",
      "Epoch 60, mean reward: 0.319, value loss: 6.460\n",
      "Epoch 70, mean reward: 0.379, value loss: 6.812\n",
      "Epoch 80, mean reward: 0.395, value loss: 4.941\n"
     ]
    }
   ],
   "source": [
    "epochs = 400\n",
    "for epoch in range(epochs):\n",
    "    tensor_s, tensor_a, tensor_r = sample_trajectories(train_env, pi, T)  # collect trajectories using current policy\n",
    "\n",
    "    # tensor_s = torch.tensor(tensor_s).float()  # convert numpy array to PyTorch tensor\n",
    "\n",
    "    with torch.no_grad():  # compute the old probabilities\n",
    "        logp_old = pi.log_prob(tensor_a, tensor_s[:T]).squeeze(2)  # compute log(pi(a_t | s_t))\n",
    "\n",
    "    for i in range(sgd_iters):  # we can even do multiple gradient steps\n",
    "        values = pi.value_estimates(tensor_s)  # estimate value function for all states\n",
    "        logp = pi.log_prob(tensor_a, tensor_s[:T]).squeeze(2)  # compute log(pi(a_t | s_t))\n",
    "\n",
    "        with torch.no_grad():  # no need for gradients when computing the advantages and value targets\n",
    "            value_targets, advantage_estimates = compute_advantage_estimates(tensor_r, values, gamma, bootstrap=True)\n",
    "            # value_targets, advantage_estimates = compute_gae(tensor_r, values, gamma, lambda_=0.97)\n",
    "            advantage_estimates = (advantage_estimates - advantage_estimates.mean()) / advantage_estimates.std()  # normalize advantages\n",
    "\n",
    "        L_v = value_loss(values[:T], value_targets)  # add the value loss\n",
    "\n",
    "        p_ratios = torch.exp(logp - logp_old)  # compute the ratios r_\\theta(a_t | s_t)\n",
    "        L_ppo = ppo_loss(p_ratios, advantage_estimates, epsilon=epsilon)  # compute the policy gradient loss\n",
    "        total_loss = L_v + L_ppo\n",
    "\n",
    "        optim.zero_grad()\n",
    "        total_loss.backward()  # backprop and gradient step\n",
    "        optim.step()\n",
    "\n",
    "    if epoch % 10 == 0:\n",
    "        print('Epoch %d, mean reward: %.3f, value loss: %.3f' % (epoch, tensor_r.mean(), L_v.item()))\n",
    "    mean_rewards[epoch] = tensor_r.mean()\n",
    "    v_losses[epoch] = L_v.item()\n",
    "    p_losses[epoch] = L_ppo.item()\n",
    "\n",
    "# train_env.close()\n",
    "\n",
    "plot_training(mean_rewards, p_losses, v_losses)"
   ]
  },
  {
   "cell_type": "code",
   "execution_count": 55,
   "id": "53e4737a",
   "metadata": {},
   "outputs": [
    {
     "name": "stdout",
     "output_type": "stream",
     "text": [
      "Environment ready\n",
      "Max x: 1.1363857984542847\n"
     ]
    },
    {
     "data": {
      "text/plain": [
       "0.9819980405482056"
      ]
     },
     "execution_count": 55,
     "metadata": {},
     "output_type": "execute_result"
    }
   ],
   "source": [
    "config = {\n",
    "    \"N\": 1,\n",
    "    \"vis\": True,\n",
    "    \"track\": 0,\n",
    "    \"reward_fcn\": walker_reward\n",
    "}\n",
    "test_policy(pi, config, 512)\n",
    "# 5.2"
   ]
  },
  {
   "cell_type": "code",
   "execution_count": 46,
   "id": "1898382c",
   "metadata": {},
   "outputs": [],
   "source": [
    "# pi.save_weights(\"walker_policy42_7.pth\")\n",
    "# pi.load_state_dict(torch.load(\"walker_policy27_3.pth\"))"
   ]
  }
 ],
 "metadata": {
  "kernelspec": {
   "display_name": ".venv",
   "language": "python",
   "name": "python3"
  },
  "language_info": {
   "codemirror_mode": {
    "name": "ipython",
    "version": 3
   },
   "file_extension": ".py",
   "mimetype": "text/x-python",
   "name": "python",
   "nbconvert_exporter": "python",
   "pygments_lexer": "ipython3",
   "version": "3.12.5"
  }
 },
 "nbformat": 4,
 "nbformat_minor": 5
}
